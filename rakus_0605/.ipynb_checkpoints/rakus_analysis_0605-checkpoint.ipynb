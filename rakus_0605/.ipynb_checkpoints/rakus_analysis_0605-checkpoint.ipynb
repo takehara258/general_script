{
 "cells": [
  {
   "cell_type": "code",
   "execution_count": 18,
   "metadata": {
    "slideshow": {
     "slide_type": "skip"
    }
   },
   "outputs": [],
   "source": [
    "import os\n",
    "import numpy as np\n",
    "import pandas as pd\n",
    "from sklearn.ensemble import RandomForestClassifier\n",
    "from sklearn.metrics import precision_recall_curve\n",
    "from sklearn.metrics import plot_precision_recall_curve\n",
    "from sklearn.metrics import average_precision_score\n",
    "import matplotlib.pyplot as plt\n",
    "import datetime\n",
    "from dateutil.relativedelta import relativedelta\n",
    "import matplotlib as mpl\n",
    "import pickle\n",
    "\n",
    "%config InlineBackend.figure_formats = {'png', 'retina'}"
   ]
  },
  {
   "cell_type": "code",
   "execution_count": 30,
   "metadata": {
    "slideshow": {
     "slide_type": "skip"
    }
   },
   "outputs": [
    {
     "data": {
      "text/html": [
       "<link rel=\"stylesheet\" type=\"text/css\" href=\"./custom.css\">\n"
      ],
      "text/plain": [
       "<IPython.core.display.HTML object>"
      ]
     },
     "metadata": {},
     "output_type": "display_data"
    }
   ],
   "source": [
    "%%html\n",
    "<link rel=\"stylesheet\" type=\"text/css\" href=\"./custom.css\">"
   ]
  },
  {
   "cell_type": "code",
   "execution_count": 19,
   "metadata": {
    "slideshow": {
     "slide_type": "skip"
    }
   },
   "outputs": [],
   "source": [
    "mpl.rcParams['font.family'] = 'MigMix 1M'\n",
    "np.random.rand(0) \n",
    "#%%\n",
    "def pickle_load(path):\n",
    "    '''\n",
    "    調整したハイパーパラメータファイルのロード\n",
    "    '''\n",
    "    with open(path, mode='rb') as f:\n",
    "        data = pickle.load(f)\n",
    "        return data\n",
    "\n",
    "\n",
    "def load_train_data():\n",
    "    '''\n",
    "    学習データの作成\n",
    "    '''\n",
    "    start_target = datetime.date(2019, 3, 1)\n",
    "    # Kセットのデータを作成\n",
    "    K = 11\n",
    "    df = pd.DataFrame()\n",
    "    for k in range(K):\n",
    "        # 予測対象の始点からkヶ月前\n",
    "        target_month = start_target - relativedelta(months=k)\n",
    "        target_str = target_month.strftime('%Y.%m.%d')\n",
    "        if os.path.isfile(os.path.join(train_data_dir, 'train_{}.csv'.format(target_str))):\n",
    "            df = pd.concat([df,pd.read_csv(os.path.join(train_data_dir, 'train_{}.csv'.format(target_str)))])\n",
    "    X = df.drop(['顧客ID','案件ID','利用区分'], axis=1)\n",
    "    y = df['利用区分']\n",
    "    return X, y\n",
    "\n",
    "\n",
    "def load_test_data():\n",
    "    '''\n",
    "    テストデータの作成\n",
    "    '''\n",
    "    start_target = datetime.date(2020, 3, 1)\n",
    "    # Kセットのデータを作成\n",
    "    K = 12\n",
    "    df = pd.DataFrame()\n",
    "    for k in range(K):\n",
    "        # 予測対象の始点からkヶ月前\n",
    "        target_month = start_target - relativedelta(months=k)\n",
    "        target_str = target_month.strftime('%Y.%m.%d')\n",
    "        if os.path.isfile(os.path.join(train_data_dir, 'train_{}.csv'.format(target_str))):\n",
    "            df = pd.concat([df,pd.read_csv(os.path.join(train_data_dir, 'train_{}.csv'.format(target_str)))])\n",
    "    X = df.drop(['顧客ID','案件ID','利用区分'], axis=1)\n",
    "    y = df['利用区分']\n",
    "    return X, y\n",
    "\n",
    "\n",
    "def train_model(params):\n",
    "    '''\n",
    "    調整したハイパーパラメータでのモデルの学習\n",
    "    '''\n",
    "    X, y = load_train_data()\n",
    "    rfc = RandomForestClassifier(**params, class_weight=\"balanced\", n_estimators = 300, random_state=0)\n",
    "    rfc.fit(X, y)\n",
    "    return rfc\n",
    "\n",
    "\n",
    "def default_model():\n",
    "    '''\n",
    "    既定のハイパーパラメータでのモデルの学習\n",
    "    '''\n",
    "    X, y = load_train_data()\n",
    "    rfc = RandomForestClassifier(class_weight=\"balanced\", random_state=0)\n",
    "    rfc.fit(X, y)\n",
    "    return rfc\n",
    "\n",
    "\n",
    "def test_model(rfc):\n",
    "    '''\n",
    "    APの計算とPR曲線の可視化\n",
    "    '''\n",
    "    X, y = load_test_data()\n",
    "    disp = plot_precision_recall_curve(rfc, X, y)\n",
    "    plt.legend(loc='upper right')\n",
    "    return\n",
    "\n",
    "\n",
    "def visualize_feature_importance():\n",
    "    '''\n",
    "    変数重要度の可視化\n",
    "    '''\n",
    "    X, y = load_train_data()\n",
    "    importances = rfc.feature_importances_\n",
    "    std = np.std([tree.feature_importances_ for tree in rfc.estimators_],\n",
    "                axis=0)\n",
    "    indices = np.argsort(importances)[::-1]\n",
    "    names = list(X.columns)\n",
    "    # Print the feature ranking\n",
    "    print(\"Feature ranking:\")\n",
    "    for f in range(X.shape[1]):\n",
    "        print(\"%d. feature %s (%f)\" % (f + 1, names[indices[f]], importances[indices[f]]))\n",
    "    # Plot the feature importances of the forest\n",
    "    plt.figure()\n",
    "    plt.title(\"Feature importances\")\n",
    "    plt.bar(range(X.shape[1]), importances[indices],\n",
    "        color=\"r\", yerr=std[indices], align=\"center\")\n",
    "    plt.xticks(range(X.shape[1]), list(np.array(names)[indices]),rotation=90)\n",
    "    plt.xlim([-1, X.shape[1]])\n",
    "    plt.show()\n",
    "    return\n",
    "\n",
    "\n",
    "def write_summary(rfc):\n",
    "    '''\n",
    "    閾値決定のための予測サマリファイルを出力\n",
    "    '''\n",
    "    # テストデータのロード\n",
    "    X, y = load_test_data()\n",
    "    # 閾値とそれに対する適合率，再現率を出力\n",
    "    y_preds = rfc.predict_proba(X).T[1]\n",
    "    print('AP: {}'.format(average_precision_score(y, y_preds)))\n",
    "    precision, recall, thresholds = precision_recall_curve(y, y_preds)\n",
    "    # 閾値以上のときの総契約数，解約数を算出\n",
    "    ans_list = []\n",
    "    cnt_list = []\n",
    "    for i, score in enumerate(sorted(thresholds)):\n",
    "        cnt = 0\n",
    "        ans = 0\n",
    "        for y_ans, y_pred in zip(y, y_preds):\n",
    "            if y_pred >= score:\n",
    "                cnt+=1\n",
    "                if y_ans == 1:\n",
    "                    ans+=1\n",
    "        ans_list.append(ans)\n",
    "        cnt_list.append(cnt)\n",
    "    # サマリファイルの出力\n",
    "    df_result = pd.concat([pd.DataFrame(thresholds), \n",
    "                pd.DataFrame(cnt_list),\n",
    "                pd.DataFrame(ans_list),\n",
    "                pd.DataFrame(precision), \n",
    "                pd.DataFrame(recall)],axis=1)\n",
    "    df_result.columns = ['thresholds', 'all', 'cancel', 'presicion', 'recall']\n",
    "#     df_result.drop_duplicates(subset='cancel', inplace=True)\n",
    "    df_result.to_csv('result/result.csv', index=None)\n",
    "    return "
   ]
  },
  {
   "cell_type": "code",
   "execution_count": 20,
   "metadata": {
    "slideshow": {
     "slide_type": "skip"
    }
   },
   "outputs": [],
   "source": [
    "#%%\n",
    "# 入力変数のディレクトリ設定\n",
    "# train_data_dir = './output/'\n",
    "train_data_dir = './output_bk3/'"
   ]
  },
  {
   "cell_type": "code",
   "execution_count": 21,
   "metadata": {
    "slideshow": {
     "slide_type": "skip"
    }
   },
   "outputs": [],
   "source": [
    "# 調整したハイパーパラメータのロード\n",
    "params = pickle_load('param_files/rfc_param_3.pickle')"
   ]
  },
  {
   "cell_type": "code",
   "execution_count": 22,
   "metadata": {
    "slideshow": {
     "slide_type": "skip"
    }
   },
   "outputs": [],
   "source": [
    "#%%\n",
    "# 調整したハイパーパラメータでのモデルの学習\n",
    "rfc = train_model(params)"
   ]
  },
  {
   "cell_type": "code",
   "execution_count": 23,
   "metadata": {
    "slideshow": {
     "slide_type": "skip"
    }
   },
   "outputs": [
    {
     "data": {
      "image/png": "[encoded data removed]",
      "text/plain": [
       "<Figure size 432x288 with 1 Axes>"
      ]
     },
     "metadata": {
      "image/png": {
       "height": 263,
       "width": 387
      },
      "needs_background": "light"
     },
     "output_type": "display_data"
    }
   ],
   "source": [
    "#%%\n",
    "# モデルの評価\n",
    "test_model(rfc)"
   ]
  },
  {
   "cell_type": "code",
   "execution_count": 24,
   "metadata": {
    "slideshow": {
     "slide_type": "skip"
    }
   },
   "outputs": [
    {
     "name": "stdout",
     "output_type": "stream",
     "text": [
      "Feature ranking:\n",
      "1. feature ﾛｸﾞｲﾝﾕｰｻﾞｰ数(前月)_0 (0.116116)\n",
      "2. feature 申請書累計_1-0_diff (0.098437)\n",
      "3. feature 現在ユーザ数 (0.092391)\n",
      "4. feature 操作ﾛｸﾞ(前月)_1 (0.086776)\n",
      "5. feature ﾛｸﾞｲﾝﾕｰｻﾞｰ数(前月)_1 (0.082218)\n",
      "6. feature 社員数_0 (0.076502)\n",
      "7. feature 申請書累計_2-1_diff (0.073824)\n",
      "8. feature 操作ﾛｸﾞ(前月)_2 (0.070628)\n",
      "9. feature 操作ﾛｸﾞ(前月)_0 (0.067009)\n",
      "10. feature 申請書累計_3-2_diff (0.064803)\n",
      "11. feature ﾛｸﾞｲﾝﾕｰｻﾞｰ数(前月)_2 (0.061220)\n",
      "12. feature 社員数_2 (0.058458)\n",
      "13. feature 社員数_1 (0.051619)\n"
     ]
    },
    {
     "data": {
      "image/png": "[encoded data removed]",
      "text/plain": [
       "<Figure size 432x288 with 1 Axes>"
      ]
     },
     "metadata": {
      "image/png": {
       "height": 351,
       "width": 380
      },
      "needs_background": "light"
     },
     "output_type": "display_data"
    }
   ],
   "source": [
    "#%%\n",
    "# 学習されたモデルでの特徴量重要度の可視化\n",
    "visualize_feature_importance()"
   ]
  },
  {
   "cell_type": "code",
   "execution_count": 25,
   "metadata": {
    "slideshow": {
     "slide_type": "skip"
    }
   },
   "outputs": [],
   "source": [
    "# #%%\n",
    "# # デフォルトのハイパーパラメータでのモデルの学習\n",
    "# rfc = default_model()"
   ]
  },
  {
   "cell_type": "code",
   "execution_count": 43,
   "metadata": {
    "slideshow": {
     "slide_type": "skip"
    }
   },
   "outputs": [
    {
     "data": {
      "text/plain": [
       "0    36611\n",
       "1      123\n",
       "Name: 利用区分, dtype: int64"
      ]
     },
     "execution_count": 43,
     "metadata": {},
     "output_type": "execute_result"
    }
   ],
   "source": [
    "X, y = load_test_data()\n",
    "y.value_counts()"
   ]
  },
  {
   "cell_type": "code",
   "execution_count": null,
   "metadata": {
    "slideshow": {
     "slide_type": "skip"
    }
   },
   "outputs": [
    {
     "name": "stdout",
     "output_type": "stream",
     "text": [
      "AP: 0.01359749985771767\n"
     ]
    }
   ],
   "source": [
    "#%%\n",
    "# サマリファイルの出力\n",
    "write_summary(rfc)"
   ]
  },
  {
   "cell_type": "markdown",
   "metadata": {
    "slideshow": {
     "slide_type": "slide"
    }
   },
   "source": [
    "## 進捗報告\n",
    "\n",
    "2020/6/5"
   ]
  },
  {
   "cell_type": "markdown",
   "metadata": {
    "slideshow": {
     "slide_type": "slide"
    }
   },
   "source": [
    "### アジェンダ\n",
    "1. 前回MTG振り返り\n",
    "    - 1.1. 契約年度による解約率集計\n",
    "    - 1.2. ラクス様指定13変数の平均値比較\n",
    "    - 1.3. アウトプットイメージ\n",
    "2. 進捗状況報告\n",
    "    - 2.1. 解約予測の期間\n",
    "    - 2.2. データ準備\n",
    "    - 2.3. モデルの評価\n",
    "    - 2.4. 閾値の評価\n",
    "3. 検討事項"
   ]
  },
  {
   "cell_type": "markdown",
   "metadata": {
    "slideshow": {
     "slide_type": "slide"
    }
   },
   "source": [
    "### 1. 前回MTG振り返り\n",
    "1.1.  契約年度による解約率集計<br>\n",
    "<br>\n",
    "<span style=\"color: whitesmoke; \">1.2.  ラクス様指定13変数の平均値比較</span><br>\n",
    "<br>\n",
    "<span style=\"color: whitesmoke; \">1.3.  アウトプットイメージ</span><br>"
   ]
  },
  {
   "cell_type": "markdown",
   "metadata": {
    "slideshow": {
     "slide_type": "subslide"
    }
   },
   "source": [
    "### 1.1. 契約年度による解約率集計\n",
    "<div style=\"text-align: center;\">\n",
    "<img src=\"./image/nendo-kaiyakuritsu.png\" title=\"nendo_kaiyaku\" width=\"960\" height=\"640\" >\n",
    "</div>"
   ]
  },
  {
   "cell_type": "markdown",
   "metadata": {
    "slideshow": {
     "slide_type": "subslide"
    }
   },
   "source": [
    "### 1. 前回MTG振り返り\n",
    "<span style=\"color: whitesmoke; \">1.1.  契約年度による解約率集計</span><br>\n",
    "<br>\n",
    "1.2.  ラクス様指定13変数の平均値比較</span><br>\n",
    "<br>\n",
    "<span style=\"color: whitesmoke; \">1.3.  アウトプットイメージ</span><br>"
   ]
  },
  {
   "cell_type": "markdown",
   "metadata": {
    "slideshow": {
     "slide_type": "subslide"
    }
   },
   "source": [
    "### 1.2. ラクス様指定13変数の平均値比較\n",
    "<img src=\"./image/ave_13.png\" title=\"ave_13\" width=\"960\" height=\"640\">"
   ]
  },
  {
   "cell_type": "markdown",
   "metadata": {
    "slideshow": {
     "slide_type": "subslide"
    }
   },
   "source": [
    "### 1. 前回MTG振り返り\n",
    "<span style=\"color: whitesmoke; \">1.1.  契約年度による解約率集計</span><br>\n",
    "<br>\n",
    "<span style=\"color: whitesmoke; \">1.2.  ラクス様指定13変数の平均値比較</span><br>\n",
    "<br>\n",
    "1.3.  アウトプットイメージ"
   ]
  },
  {
   "cell_type": "markdown",
   "metadata": {
    "slideshow": {
     "slide_type": "subslide"
    }
   },
   "source": [
    "### 1.3. アウトプットイメージ\n",
    "- <span style=\"color: blue; \">6ヶ月後</span>の解約予測\n",
    "    - 3ヶ月前にわかっても手遅れの場合がある． \n",
    "    - 3ヶ月前だと既にリプレイス準備が進んでいる可能性が高い．\n",
    "- <span style=\"color: blue; \">3段階表示</span>\n",
    "     - 運用を考えた際, 複雑なスコアが出ても使いづらい．\n",
    "     - ○△×くらいのイメージ, 表現方法は別途検討．"
   ]
  },
  {
   "cell_type": "markdown",
   "metadata": {
    "slideshow": {
     "slide_type": "slide"
    }
   },
   "source": [
    "###  2. 進捗報告\n",
    "<span style=\"color: black; \">2.1. 解約予測の期間</span><br>\n",
    "<br>\n",
    "<span style=\"color:  black; \">2.2. データ準備</span><br>\n",
    "<br>\n",
    "<span style=\"color:  black; \">2.3. モデルの評価</span><br>\n",
    "<br>\n",
    "<span style=\"color:  black; \">2.4. 閾値の評価</span>"
   ]
  },
  {
   "cell_type": "markdown",
   "metadata": {
    "slideshow": {
     "slide_type": "slide"
    }
   },
   "source": [
    "###  2. 進捗報告\n",
    "<span style=\"color: black; \">2.1. 解約予測の期間</span><br>\n",
    "<br>\n",
    "<span style=\"color: whitesmoke; \">2.2. データ準備</span><br>\n",
    "<br>\n",
    "<span style=\"color: whitesmoke; \">2.3. モデルの評価</span><br>\n",
    "<br>\n",
    "<span style=\"color: whitesmoke; \">2.4. 閾値の評価</span>"
   ]
  },
  {
   "cell_type": "markdown",
   "metadata": {
    "slideshow": {
     "slide_type": "subslide"
    }
   },
   "source": [
    "### 2.1. 解約予測の期間\n",
    "- <span style=\"color: blue; \">3ヶ月分</span>のデータを使い, <span style=\"color: blue; \">6ヶ月後</span>の解約予測のモデルを作成\n",
    "    - 例) 2019年7月, 2019年8月, 2019年9月のデータを使い，2020年3月の**利用区分**を予測\n",
    "\n",
    "<br>\n",
    "<br>\n",
    "\n",
    "<div style=\"text-align: center;\">\n",
    "<!-- <font size=\"4\"> -->\n",
    "    学習データのイメージ\n",
    "<!-- </font> -->\n",
    "</div>\n",
    "\n",
    "| No |2019/5| 2019/6 | 2019/7 | 2019/8 | 2019/9 | 2019/10 | 2019/11 | 2019/12 | 2020/1 | 2020/2 | 2020/3 |\n",
    "| :----: | :----: | :----: | :----: | :----: | :----: | :----: | :----: | :----: | :----: | :----: | :----: |\n",
    "| 1 |-| - | <span style=\"color: blue; \">●</span> | <span style=\"color: blue; \">●</span> | <span style=\"color: blue; \">●</span> | → | → | → | → | → | <span style=\"color: blue; \">予測</span> |\n",
    "| 2 |-| <span style=\"color: blue; \">●</span> | <span style=\"color: blue; \">●</span> | <span style=\"color: blue; \">●</span> | → | → | → | → | → | <span style=\"color: blue; \">予測</span> | - |\n",
    "| 3 | <span style=\"color: blue; \">●</span> | <span style=\"color: blue; \">●</span> | <span style=\"color: blue; \">●</span> | → | → | → | → | → | <span style=\"color: blue; \">予測</span> | - | - |\n",
    "| $\\vdots$ |$\\vdots$| $\\vdots$ | $\\vdots$ | $\\vdots$ | $\\vdots$ | $\\vdots$ | $\\vdots$ | $\\vdots$ | $\\vdots$ | $\\vdots$ | $\\vdots$ |"
   ]
  },
  {
   "cell_type": "markdown",
   "metadata": {
    "slideshow": {
     "slide_type": "slide"
    }
   },
   "source": [
    "###  2. 進捗報告\n",
    "<span style=\"color: whitesmoke; \">2.1. 解約予測の期間</span><br>\n",
    "<br>\n",
    "<span style=\"color: black; \">2.2. データ準備</span><br>\n",
    "<br>\n",
    "<span style=\"color: whitesmoke; \">2.3. モデルの評価</span><br>\n",
    "<br>\n",
    "<span style=\"color: whitesmoke; \">2.4. 閾値の評価</span>"
   ]
  },
  {
   "cell_type": "markdown",
   "metadata": {
    "slideshow": {
     "slide_type": "slide"
    }
   },
   "source": [
    "### 2.2. データ準備\n",
    "<span style=\"color: blue; \">3パターン</span>のデータセットを利用してモデルを作成\n",
    "\n",
    "1. ラクス様指定13変数\n",
    "2. ラクス様指定，指定外も含めた35変数\n",
    "3. 1., 2.の分析結果をもとに選択した5変数"
   ]
  },
  {
   "cell_type": "markdown",
   "metadata": {
    "slideshow": {
     "slide_type": "subslide"
    }
   },
   "source": [
    "### 1. ラクス様指定13変数\n",
    "<div align=\"center\">\n",
    "        <img src=\"./image/13_feature.png\" title=\"13_\" width=\"300\"　height=\"200\">\n",
    "</div>"
   ]
  },
  {
   "cell_type": "markdown",
   "metadata": {
    "slideshow": {
     "slide_type": "subslide"
    }
   },
   "source": [
    "### 2. ラクス様指定，指定外も含めた35変数\n",
    "- マスタ, 契約時変数， 期間などを追加\n",
    "\n",
    "<div align=\"center\">\n",
    "    <img src=\"./image/35_feature.png\" title=\"35_\" width=\"1000\" height=\"600\">\n",
    "</div>"
   ]
  },
  {
   "cell_type": "markdown",
   "metadata": {
    "slideshow": {
     "slide_type": "subslide"
    }
   },
   "source": [
    "### 3. 1., 2.の分析結果をもとに選択した5変数\n",
    "- 変数重要度， かつ汎用的に存在しそうな5変数(13次元)を選択\n",
    "    - 現在ユーザ数\n",
    "    - 社員数\n",
    "    - ログインユーザ数\n",
    "    - 申請書累計\n",
    "    - 操作ログ\n",
    "    \n",
    "<div align=\"center\">\n",
    "    <img src=\"./image/5_feature.png\" title=\"13_\" width=\"1920\" height=\"1080\">\n",
    "</div>"
   ]
  },
  {
   "cell_type": "markdown",
   "metadata": {
    "slideshow": {
     "slide_type": "slide"
    }
   },
   "source": [
    "###  2. 進捗報告\n",
    "<span style=\"color: whitesmoke; \">2.1. 解約予測の期間</span><br>\n",
    "<br>\n",
    "<span style=\"color:whitesmoke; \">2.2. データ準備</span><br>\n",
    "<br>\n",
    "<span style=\"color:  black; \">2.3. モデルの評価</span><br>\n",
    "<br>\n",
    "<span style=\"color: whitesmoke; \">2.4. 閾値の評価</span>"
   ]
  },
  {
   "cell_type": "markdown",
   "metadata": {
    "slideshow": {
     "slide_type": "subslide"
    }
   },
   "source": [
    "### 2.3. モデルの評価\n",
    "- 3パターンの変数を利用したモデル(ランダムフォレスト)を作成\n",
    "    - 変数を13変数から35変数に増やすことでモデルの性能(平均適合率)が向上\n",
    "    - 向上要因:増やした変数のなかに有効な変数が含まれていたため\n",
    "-  35変数の分析結果を考察し，5変数選択することでさらに性能は向上\n",
    "    - 向上要因:有効な変数に対して詳細なルールを作成できたため\n",
    "    \n",
    "\n",
    "<div style=\"text-align: center;\">\n",
    "<font size=\"5\">\n",
    "    データセットによる平均適合率の比較\n",
    "</font>\n",
    "</div>\n",
    "\n",
    "| パターン | モデルでの利用変数の説明 | 平均適合率(✳︎1) |\n",
    "| ---- | ---- | ---- |\n",
    "| 1 | ラクス様指定の13変数(39次元) | 1.04% |\n",
    "| 2 | 指定外も含めた35変数(127次元) | 1.07% |\n",
    "| 3 | 1., 2.の分析結果をもとに選択した5変数(13次元) | 1.12% |\n",
    "\n",
    "<div style=\"text-align: right;\">\n",
    "<font size=\"4\">\n",
    "    (✳︎1) ハイパーパラメータ調整あり\n",
    "</font>\n",
    "</div>"
   ]
  },
  {
   "cell_type": "markdown",
   "metadata": {
    "slideshow": {
     "slide_type": "slide"
    }
   },
   "source": [
    "###  2. 進捗報告\n",
    "<span style=\"color: whitesmoke; \">2.1. 解約予測の期間</span><br>\n",
    "<br>\n",
    "<span style=\"color:whitesmoke; \">2.2. データ準備</span><br>\n",
    "<br>\n",
    "<span style=\"color:  whitesmoke; \">2.3. モデルの評価</span><br>\n",
    "<br>\n",
    "<span style=\"color: black; \">2.4. 閾値の評価</span>"
   ]
  },
  {
   "cell_type": "code",
   "execution_count": null,
   "metadata": {
    "slideshow": {
     "slide_type": "subslide"
    }
   },
   "outputs": [],
   "source": [
    "df = pd.read_excel(\"./result/result_drop_duplicates.csv\", usecols=[0,1,2,3,4])\n",
    "df.head(10)"
   ]
  },
  {
   "cell_type": "markdown",
   "metadata": {
    "slideshow": {
     "slide_type": "subslide"
    }
   },
   "source": [
    "### 2.4. 閾値の評価\n",
    "- パターン3のモデルに固定し，下表の5つの閾値パターンを比較\n",
    "    - -> 上位5%，上位20%と閾値を設定した場合が高/低の値が大きい\n",
    "    - -> 解約レベル高は低に比べて約7倍，中は低に比べて約3倍\n",
    "    \n",
    "<div align=\"center\">\n",
    "    <img src=\"./image/thresholds.png\" title=\"13_\" width=\"1920\" height=\"1080\">\n",
    "</div>"
   ]
  },
  {
   "cell_type": "markdown",
   "metadata": {
    "slideshow": {
     "slide_type": "slide"
    }
   },
   "source": [
    "### 3. 検討事項"
   ]
  },
  {
   "cell_type": "markdown",
   "metadata": {
    "slideshow": {
     "slide_type": "subslide"
    }
   },
   "source": [
    "### 3. 検討事項\n",
    "解約レベル「<span style=\"color: red; \">高</span>|<span style=\"color: orange; \">中</span>」の閾値と解約レベル「<span style=\"color: orange; \">中</span>|<span style=\"color: blue; \">低</span>」の閾値を 現実のオペレーションを考慮して設定したい．\n",
    "- 【参考値】 1ヶ月あたりでは約3000契約存在\n",
    "    - 上位1%: 30契約\n",
    "    - 上位3%: 90契約\n",
    "    - 上位5%: 150契約\n",
    "    - 上位10%: 300契約"
   ]
  },
  {
   "cell_type": "markdown",
   "metadata": {
    "slideshow": {
     "slide_type": "slide"
    }
   },
   "source": [
    "### 4. 重要変数に関するインサイト(参考)\n",
    "1. 申請書累計:申請書が減っていると解約する\n",
    "2. ログインユーザーと現在ユーザー数(最大アカウント数):\n",
    "    最大アカウント数が多いにもかかわらず，ログインユーザー数が極端に少ないと解約する\n",
    "3. ログインユーザー数:ログインユーザー数が極端に減ると解約する\n",
    "4. 操作ログ:経理処理や管理操作などの操作ログが減っていると解約する\n",
    "5. 社員数:社員数に比べてログインユーザー数が少ないと解約する"
   ]
  },
  {
   "cell_type": "markdown",
   "metadata": {
    "slideshow": {
     "slide_type": "slide"
    }
   },
   "source": [
    "### 5. まとめ\n",
    "1. 3パターンのデータセットを利用してモデル作成した．\n",
    "    - 5変数(13次元)によるモデルの精度が高かった．\n",
    "    - 現在ユーザ数，社員数，ログインユーザ数，申請書累計，操作ログ\n",
    "2. 解約顧客の予測\n",
    "    - ランダムな予測と比較して，3倍程度予測精度が向上した．\n",
    "3. 解約レベルの閾値（3段階）をどこにするかを検討した．"
   ]
  }
 ],
 "metadata": {
  "celltoolbar": "Slideshow",
  "kernelspec": {
   "display_name": "Python 3",
   "language": "python",
   "name": "python3"
  },
  "language_info": {
   "codemirror_mode": {
    "name": "ipython",
    "version": 3
   },
   "file_extension": ".py",
   "mimetype": "text/x-python",
   "name": "python",
   "nbconvert_exporter": "python",
   "pygments_lexer": "ipython3",
   "version": "3.7.3"
  }
 },
 "nbformat": 4,
 "nbformat_minor": 2
}
