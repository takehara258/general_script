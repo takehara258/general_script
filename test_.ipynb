{
 "cells": [
  {
   "cell_type": "markdown",
   "metadata": {
    "slideshow": {
     "slide_type": "slide"
    }
   },
   "source": [
    "## 進捗報告\n",
    "\n",
    "2020/6/5"
   ]
  },
  {
   "cell_type": "markdown",
   "metadata": {
    "slideshow": {
     "slide_type": "slide"
    }
   },
   "source": [
    "### アジェンダ\n",
    "1. 前回MTG振り返り\n",
    "    - 1.1. 契約年度による解約率集計\n",
    "    - 1.2. ラクス様指定13変数の平均値比較\n",
    "    - 1.3. アウトプットイメージ\n",
    "2. 進捗状況報告\n",
    "    - 2.1. 解約予測の期間\n",
    "    - 2.2. データ準備\n",
    "    - 2.3. モデルの評価\n",
    "    - 2.4. 閾値の評価\n",
    "3. 検討事項"
   ]
  },
  {
   "cell_type": "markdown",
   "metadata": {
    "slideshow": {
     "slide_type": "slide"
    }
   },
   "source": [
    "### 1. 前回MTG振り返り\n",
    "1.1.  契約年度による解約率集計<br>\n",
    "<br>\n",
    "<span style=\"color: whitesmoke; \">1.2.  ラクス様指定13変数の平均値比較</span><br>\n",
    "<br>\n",
    "<span style=\"color: whitesmoke; \">1.3.  アウトプットイメージ</span><br>"
   ]
  },
  {
   "cell_type": "markdown",
   "metadata": {
    "slideshow": {
     "slide_type": "subslide"
    }
   },
   "source": [
    "### 1.1. 契約年度による解約率集計\n",
    "<div style=\"text-align: center;\">\n",
    "<img src=\"./image/nendo-kaiyakuritsu.png\" title=\"nendo_kaiyaku\" width=\"960\" height=\"640\" >\n",
    "</div>"
   ]
  },
  {
   "cell_type": "markdown",
   "metadata": {
    "slideshow": {
     "slide_type": "subslide"
    }
   },
   "source": [
    "### 1. 前回MTG振り返り\n",
    "<span style=\"color: whitesmoke; \">1.1.  契約年度による解約率集計</span><br>\n",
    "<br>\n",
    "1.2.  ラクス様指定13変数の平均値比較</span><br>\n",
    "<br>\n",
    "<span style=\"color: whitesmoke; \">1.3.  アウトプットイメージ</span><br>"
   ]
  },
  {
   "cell_type": "markdown",
   "metadata": {
    "slideshow": {
     "slide_type": "subslide"
    }
   },
   "source": [
    "### 1.2. ラクス様指定13変数の平均値比較\n",
    "<img src=\"./image/ave_13.png\" title=\"ave_13\" width=\"960\" height=\"640\">"
   ]
  },
  {
   "cell_type": "markdown",
   "metadata": {
    "slideshow": {
     "slide_type": "subslide"
    }
   },
   "source": [
    "### 1. 前回MTG振り返り\n",
    "<span style=\"color: whitesmoke; \">1.1.  契約年度による解約率集計</span><br>\n",
    "<br>\n",
    "<span style=\"color: whitesmoke; \">1.2.  ラクス様指定13変数の平均値比較</span><br>\n",
    "<br>\n",
    "1.3.  アウトプットイメージ"
   ]
  },
  {
   "cell_type": "markdown",
   "metadata": {
    "slideshow": {
     "slide_type": "subslide"
    }
   },
   "source": [
    "### 1.3. アウトプットイメージ\n",
    "- <span style=\"color: blue; \">6ヶ月後</span>の解約予測\n",
    "    - 3ヶ月前にわかっても手遅れの場合がある． \n",
    "    - 3ヶ月前だと既にリプレイス準備が進んでいる可能性が高い．\n",
    "- <span style=\"color: blue; \">3段階表示</span>\n",
    "     - 運用を考えた際, 複雑なスコアが出ても使いづらい．\n",
    "     - ○△×くらいのイメージ, 表現方法は別途検討．"
   ]
  },
  {
   "cell_type": "markdown",
   "metadata": {
    "slideshow": {
     "slide_type": "slide"
    }
   },
   "source": [
    "###  2. 進捗報告\n",
    "<span style=\"color: black; \">2.1. 解約予測の期間</span><br>\n",
    "<br>\n",
    "<span style=\"color:  black; \">2.2. データ準備</span><br>\n",
    "<br>\n",
    "<span style=\"color:  black; \">2.3. モデルの評価</span><br>\n",
    "<br>\n",
    "<span style=\"color:  black; \">2.4. 閾値の評価</span>"
   ]
  },
  {
   "cell_type": "markdown",
   "metadata": {
    "slideshow": {
     "slide_type": "slide"
    }
   },
   "source": [
    "###  2. 進捗報告\n",
    "<span style=\"color: black; \">2.1. 解約予測の期間</span><br>\n",
    "<br>\n",
    "<span style=\"color: whitesmoke; \">2.2. データ準備</span><br>\n",
    "<br>\n",
    "<span style=\"color: whitesmoke; \">2.3. モデルの評価</span><br>\n",
    "<br>\n",
    "<span style=\"color: whitesmoke; \">2.4. 閾値の評価</span>"
   ]
  },
  {
   "cell_type": "markdown",
   "metadata": {
    "slideshow": {
     "slide_type": "subslide"
    }
   },
   "source": [
    "### 2.1. 解約予測の期間\n",
    "- <span style=\"color: blue; \">3ヶ月分</span>のデータを使い, <span style=\"color: blue; \">6ヶ月後</span>の解約予測のモデルを作成\n",
    "    - 例) 2019年7月, 2019年8月, 2019年9月のデータを使い，2020年3月の**利用区分**を予測\n",
    "\n",
    "<br>\n",
    "<br>\n",
    "\n",
    "<div style=\"text-align: center;\">\n",
    "<!-- <font size=\"4\"> -->\n",
    "    学習データのイメージ\n",
    "<!-- </font> -->\n",
    "</div>\n",
    "\n",
    "| No |2019/5| 2019/6 | 2019/7 | 2019/8 | 2019/9 | 2019/10 | 2019/11 | 2019/12 | 2020/1 | 2020/2 | 2020/3 |\n",
    "| :----: | :----: | :----: | :----: | :----: | :----: | :----: | :----: | :----: | :----: | :----: | :----: |\n",
    "| 1 |-| - | <span style=\"color: blue; \">●</span> | <span style=\"color: blue; \">●</span> | <span style=\"color: blue; \">●</span> | → | → | → | → | → | <span style=\"color: blue; \">予測</span> |\n",
    "| 2 |-| <span style=\"color: blue; \">●</span> | <span style=\"color: blue; \">●</span> | <span style=\"color: blue; \">●</span> | → | → | → | → | → | <span style=\"color: blue; \">予測</span> | - |\n",
    "| 3 | <span style=\"color: blue; \">●</span> | <span style=\"color: blue; \">●</span> | <span style=\"color: blue; \">●</span> | → | → | → | → | → | <span style=\"color: blue; \">予測</span> | - | - |\n",
    "| $\\vdots$ |$\\vdots$| $\\vdots$ | $\\vdots$ | $\\vdots$ | $\\vdots$ | $\\vdots$ | $\\vdots$ | $\\vdots$ | $\\vdots$ | $\\vdots$ | $\\vdots$ |"
   ]
  },
  {
   "cell_type": "markdown",
   "metadata": {
    "slideshow": {
     "slide_type": "slide"
    }
   },
   "source": [
    "###  2. 進捗報告\n",
    "<span style=\"color: whitesmoke; \">2.1. 解約予測の期間</span><br>\n",
    "<br>\n",
    "<span style=\"color: black; \">2.2. データ準備</span><br>\n",
    "<br>\n",
    "<span style=\"color: whitesmoke; \">2.3. モデルの評価</span><br>\n",
    "<br>\n",
    "<span style=\"color: whitesmoke; \">2.4. 閾値の評価</span>"
   ]
  },
  {
   "cell_type": "markdown",
   "metadata": {
    "slideshow": {
     "slide_type": "slide"
    }
   },
   "source": [
    "### 2.2. データ準備\n",
    "<span style=\"color: blue; \">3パターン</span>のデータセットを利用してモデルを作成\n",
    "\n",
    "1. ラクス様指定13変数\n",
    "2. ラクス様指定，指定外も含めた35変数\n",
    "3. 1., 2.の分析結果をもとに選択した5変数"
   ]
  },
  {
   "cell_type": "markdown",
   "metadata": {
    "slideshow": {
     "slide_type": "subslide"
    }
   },
   "source": [
    "### 1. ラクス様指定13変数\n",
    "<div align=\"center\">\n",
    "        <img src=\"./image/13_feature.png\" title=\"13_\" width=\"300\"　height=\"200\">\n",
    "</div>"
   ]
  },
  {
   "cell_type": "markdown",
   "metadata": {
    "slideshow": {
     "slide_type": "subslide"
    }
   },
   "source": [
    "### 2. ラクス様指定，指定外も含めた35変数\n",
    "- マスタ, 契約時変数， 期間などを追加\n",
    "\n",
    "<div align=\"center\">\n",
    "    <img src=\"./image/35_feature.png\" title=\"35_\" width=\"1000\" height=\"600\">\n",
    "</div>"
   ]
  },
  {
   "cell_type": "markdown",
   "metadata": {
    "slideshow": {
     "slide_type": "subslide"
    }
   },
   "source": [
    "### 3. 1., 2.の分析結果をもとに選択した5変数\n",
    "- 変数重要度， かつ汎用的に存在しそうな5変数(13次元)を選択\n",
    "    - 現在ユーザ数\n",
    "    - 社員数\n",
    "    - ログインユーザ数\n",
    "    - 申請書累計\n",
    "    - 操作ログ\n",
    "    \n",
    "<div align=\"center\">\n",
    "    <img src=\"./image/5_feature.png\" title=\"13_\" width=\"1920\" height=\"1080\">\n",
    "</div>"
   ]
  },
  {
   "cell_type": "markdown",
   "metadata": {
    "slideshow": {
     "slide_type": "slide"
    }
   },
   "source": [
    "###  2. 進捗報告\n",
    "<span style=\"color: whitesmoke; \">2.1. 解約予測の期間</span><br>\n",
    "<br>\n",
    "<span style=\"color:whitesmoke; \">2.2. データ準備</span><br>\n",
    "<br>\n",
    "<span style=\"color:  black; \">2.3. モデルの評価</span><br>\n",
    "<br>\n",
    "<span style=\"color: whitesmoke; \">2.4. 閾値の評価</span>"
   ]
  },
  {
   "cell_type": "markdown",
   "metadata": {
    "slideshow": {
     "slide_type": "subslide"
    }
   },
   "source": [
    "### 2.3. モデルの評価\n",
    "- 3パターンの変数を利用したモデル(ランダムフォレスト)を作成\n",
    "    - 13変数→35変数に増やすことでモデルの性能(平均適合率)が向上\n",
    "    - 向上要因:増やした変数のなかに有効な変数が含まれていたため\n",
    "-  35変数の分析結果を考察し，5変数選択することでさらに性能は向上\n",
    "    - 向上要因:有効な変数に対して詳細なルールを作成できたため\n",
    "    \n",
    "\n",
    "<div style=\"text-align: center;\">\n",
    "<font size=\"5\">\n",
    "    データセットによる平均適合率の比較\n",
    "</font>\n",
    "</div>\n",
    "\n",
    "| パターン | モデルでの利用変数の説明 | 平均適合率(✳︎1) |\n",
    "| ---- | ---- | ---- |\n",
    "| 1 | ラクス様指定の13変数(39次元) | 1.04% |\n",
    "| 2 | 指定外も含めた35変数(127次元) | 1.07% |\n",
    "| 3 | 1., 2.の分析結果をもとに選択した5変数(13次元) | 1.12% |\n",
    "\n",
    "<div style=\"text-align: right;\">\n",
    "<font size=\"4\">\n",
    "    (✳︎1) ハイパーパラメータ調整あり\n",
    "</font>\n",
    "</div>"
   ]
  },
  {
   "cell_type": "markdown",
   "metadata": {
    "slideshow": {
     "slide_type": "slide"
    }
   },
   "source": [
    "###  2. 進捗報告\n",
    "<span style=\"color: whitesmoke; \">2.1. 解約予測の期間</span><br>\n",
    "<br>\n",
    "<span style=\"color:whitesmoke; \">2.2. データ準備</span><br>\n",
    "<br>\n",
    "<span style=\"color:  whitesmoke; \">2.3. モデルの評価</span><br>\n",
    "<br>\n",
    "<span style=\"color: black; \">2.4. 閾値の評価</span>"
   ]
  },
  {
   "cell_type": "markdown",
   "metadata": {
    "slideshow": {
     "slide_type": "slide"
    }
   },
   "source": [
    "### 2.4. 閾値の評価\n",
    "[result](https://docs.google.com/spreadsheets/d/10SRnwip-tgDWQq9J6w9esIyCubPjjKFa-HF1ZTBgdcU/edit#gid=254709839)"
   ]
  },
  {
   "cell_type": "code",
   "execution_count": 106,
   "metadata": {
    "slideshow": {
     "slide_type": "skip"
    }
   },
   "outputs": [
    {
     "data": {
      "text/html": [
       "<div>\n",
       "<style scoped>\n",
       "    .dataframe tbody tr th:only-of-type {\n",
       "        vertical-align: middle;\n",
       "    }\n",
       "\n",
       "    .dataframe tbody tr th {\n",
       "        vertical-align: top;\n",
       "    }\n",
       "\n",
       "    .dataframe thead th {\n",
       "        text-align: right;\n",
       "    }\n",
       "</style>\n",
       "<table border=\"1\" class=\"dataframe\">\n",
       "  <thead>\n",
       "    <tr style=\"text-align: right;\">\n",
       "      <th></th>\n",
       "      <th>thresholds</th>\n",
       "      <th>all</th>\n",
       "      <th>cancel</th>\n",
       "      <th>presicion</th>\n",
       "      <th>recall</th>\n",
       "    </tr>\n",
       "  </thead>\n",
       "  <tbody>\n",
       "    <tr>\n",
       "      <th>0</th>\n",
       "      <td>0.006261</td>\n",
       "      <td>36376.0</td>\n",
       "      <td>123.0</td>\n",
       "      <td>0.003381</td>\n",
       "      <td>1.000000</td>\n",
       "    </tr>\n",
       "    <tr>\n",
       "      <th>1</th>\n",
       "      <td>0.006277</td>\n",
       "      <td>36297.0</td>\n",
       "      <td>122.0</td>\n",
       "      <td>0.003361</td>\n",
       "      <td>0.991870</td>\n",
       "    </tr>\n",
       "    <tr>\n",
       "      <th>2</th>\n",
       "      <td>0.006540</td>\n",
       "      <td>36025.0</td>\n",
       "      <td>121.0</td>\n",
       "      <td>0.003359</td>\n",
       "      <td>0.983740</td>\n",
       "    </tr>\n",
       "    <tr>\n",
       "      <th>3</th>\n",
       "      <td>0.010684</td>\n",
       "      <td>34265.0</td>\n",
       "      <td>120.0</td>\n",
       "      <td>0.003502</td>\n",
       "      <td>0.975610</td>\n",
       "    </tr>\n",
       "    <tr>\n",
       "      <th>4</th>\n",
       "      <td>0.015416</td>\n",
       "      <td>33299.0</td>\n",
       "      <td>119.0</td>\n",
       "      <td>0.003574</td>\n",
       "      <td>0.967480</td>\n",
       "    </tr>\n",
       "    <tr>\n",
       "      <th>5</th>\n",
       "      <td>0.016984</td>\n",
       "      <td>33106.0</td>\n",
       "      <td>118.0</td>\n",
       "      <td>0.003564</td>\n",
       "      <td>0.959350</td>\n",
       "    </tr>\n",
       "    <tr>\n",
       "      <th>6</th>\n",
       "      <td>0.017293</td>\n",
       "      <td>33053.0</td>\n",
       "      <td>117.0</td>\n",
       "      <td>0.003540</td>\n",
       "      <td>0.951220</td>\n",
       "    </tr>\n",
       "    <tr>\n",
       "      <th>7</th>\n",
       "      <td>0.021966</td>\n",
       "      <td>32418.0</td>\n",
       "      <td>116.0</td>\n",
       "      <td>0.003578</td>\n",
       "      <td>0.943089</td>\n",
       "    </tr>\n",
       "    <tr>\n",
       "      <th>8</th>\n",
       "      <td>0.031297</td>\n",
       "      <td>31556.0</td>\n",
       "      <td>115.0</td>\n",
       "      <td>0.003644</td>\n",
       "      <td>0.934959</td>\n",
       "    </tr>\n",
       "    <tr>\n",
       "      <th>9</th>\n",
       "      <td>0.043864</td>\n",
       "      <td>30538.0</td>\n",
       "      <td>114.0</td>\n",
       "      <td>0.003733</td>\n",
       "      <td>0.926829</td>\n",
       "    </tr>\n",
       "  </tbody>\n",
       "</table>\n",
       "</div>"
      ],
      "text/plain": [
       "   thresholds      all  cancel  presicion    recall\n",
       "0    0.006261  36376.0   123.0   0.003381  1.000000\n",
       "1    0.006277  36297.0   122.0   0.003361  0.991870\n",
       "2    0.006540  36025.0   121.0   0.003359  0.983740\n",
       "3    0.010684  34265.0   120.0   0.003502  0.975610\n",
       "4    0.015416  33299.0   119.0   0.003574  0.967480\n",
       "5    0.016984  33106.0   118.0   0.003564  0.959350\n",
       "6    0.017293  33053.0   117.0   0.003540  0.951220\n",
       "7    0.021966  32418.0   116.0   0.003578  0.943089\n",
       "8    0.031297  31556.0   115.0   0.003644  0.934959\n",
       "9    0.043864  30538.0   114.0   0.003733  0.926829"
      ]
     },
     "execution_count": 106,
     "metadata": {},
     "output_type": "execute_result"
    }
   ],
   "source": [
    "df = pd.read_csv(\"./result/result_drop_duplicates.csv\", usecols=[0,1,2,3,4])\n",
    "df.head(10)"
   ]
  },
  {
   "cell_type": "markdown",
   "metadata": {
    "slideshow": {
     "slide_type": "subslide"
    }
   },
   "source": [
    "### 2.4. 閾値の評価\n",
    "- パターン3のモデルに固定し，下表の5つの閾値パターンを比較\n",
    "    - -> 上位5%，上位20%と閾値を設定した場合が高/低の値が大きい\n",
    "    - -> 解約レベル高は低に比べて約7倍，中は低に比べて約3倍\n",
    "    \n",
    "<div align=\"center\">\n",
    "    <img src=\"./image/thresholds.png\" title=\"13_\" width=\"1920\" height=\"1080\">\n",
    "</div>"
   ]
  },
  {
   "cell_type": "markdown",
   "metadata": {
    "slideshow": {
     "slide_type": "slide"
    }
   },
   "source": [
    "### 3. 検討事項"
   ]
  },
  {
   "cell_type": "markdown",
   "metadata": {
    "slideshow": {
     "slide_type": "subslide"
    }
   },
   "source": [
    "### 3. 検討事項\n",
    "解約レベル「<span style=\"color: red; \">高</span>|<span style=\"color: orange; \">中</span>」の閾値と解約レベル「<span style=\"color: orange; \">中</span>|<span style=\"color: blue; \">低</span>」の閾値を 現実のオペレーションを考慮して設定したい．\n",
    "- 【参考値】 1ヶ月あたりでは約3000契約存在\n",
    "    - 上位1%: 30契約\n",
    "    - 上位3%: 90契約\n",
    "    - 上位5%: 150契約\n",
    "    - 上位10%: 300契約"
   ]
  },
  {
   "cell_type": "markdown",
   "metadata": {
    "slideshow": {
     "slide_type": "slide"
    }
   },
   "source": [
    "### 4. まとめ\n",
    "1. 3パターンのデータセットを利用してモデル作成した．\n",
    "    - 5変数(13次元)によるモデルの精度が高かった．\n",
    "    - 現在ユーザ数，社員数，ログインユーザ数，申請書累計，操作ログ\n",
    "2. 解約顧客の予測\n",
    "    - ランダムな予測と比較して，3倍程度予測精度が向上した．\n",
    "3. 解約レベルの閾値（3段階）をどこにするかを検討した．"
   ]
  },
  {
   "cell_type": "markdown",
   "metadata": {
    "slideshow": {
     "slide_type": "slide"
    }
   },
   "source": [
    "### 参考: 重要変数に関するインサイト\n",
    "1. 申請書累計:申請書が減っていると解約する\n",
    "2. ログインユーザーと現在ユーザー数(最大アカウント数):\n",
    "    最大アカウント数が多いにもかかわらず，ログインユーザー数が極端に少ないと解約する\n",
    "3. ログインユーザー数:ログインユーザー数が極端に減ると解約する\n",
    "4. 操作ログ:経理処理や管理操作などの操作ログが減っていると解約する\n",
    "5. 社員数:社員数に比べてログインユーザー数が少ないと解約する"
   ]
  }
 ],
 "metadata": {
  "celltoolbar": "Slideshow",
  "kernelspec": {
   "display_name": "Python 3",
   "language": "python",
   "name": "python3"
  },
  "language_info": {
   "codemirror_mode": {
    "name": "ipython",
    "version": 3
   },
   "file_extension": ".py",
   "mimetype": "text/x-python",
   "name": "python",
   "nbconvert_exporter": "python",
   "pygments_lexer": "ipython3",
   "version": "3.7.3"
  }
 },
 "nbformat": 4,
 "nbformat_minor": 2
}
